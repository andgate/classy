{
 "cells": [
  {
   "cell_type": "markdown",
   "metadata": {},
   "source": [
    "This is an experimental playground for testing typeclass implementation in python. This experiment will rely on the typechecking capabilities in python 3.12, with typechecking done by pylance/pyright.\n",
    "\n",
    "The approach we use in this experiment is borrowed from the article (Typeclasses in Python)[https://sobolevn.me/2021/06/typeclasses-in-python]. The core idea is to create a wrapper decorator around the singledispatch tool that comes in python's standard functools library.\n",
    "\n",
    "Now, let's get started!"
   ]
  },
  {
   "cell_type": "code",
   "execution_count": 23,
   "metadata": {},
   "outputs": [],
   "source": [
    "from functools import singledispatch, update_wrapper\n",
    "from dataclasses import dataclass"
   ]
  },
  {
   "cell_type": "markdown",
   "metadata": {},
   "source": [
    "We can use the singledispatch decorator to register different functions and dispatch on type. So this basically already gives us typeclasses. "
   ]
  },
  {
   "cell_type": "code",
   "execution_count": 16,
   "metadata": {},
   "outputs": [
    {
     "name": "stdout",
     "output_type": "stream",
     "text": [
      "Hello, world!\n",
      "Hello again, example\n",
      "We get a runtime error if we do not register a function for a type\n"
     ]
    }
   ],
   "source": [
    "# Create a generic function\n",
    "@singledispatch\n",
    "def greet(instance) -> str:\n",
    "    \"\"\"Default case.\"\"\"\n",
    "    raise NotImplementedError\n",
    "\n",
    "# Register a function for a specific type\n",
    "@greet.register\n",
    "def _greet_str(instance: str) -> str:\n",
    "    return 'Hello, {0}!'.format(instance)\n",
    "\n",
    "# Custom type\n",
    "@dataclass\n",
    "class MyUser(object):\n",
    "    name: str\n",
    "\n",
    "# Register a function for a custom type\n",
    "@greet.register\n",
    "def _greet_myuser(instance: MyUser) -> str:\n",
    "    return 'Hello again, {0}'.format(instance.name)\n",
    "\n",
    "# Use the generic function\n",
    "print(greet('world'))\n",
    "print(greet(MyUser(name='example')))\n",
    "\n",
    "# Fails without a type error if we do not register a function for a type!\n",
    "# Though it should be noted that we can set a default function.\n",
    "try:\n",
    "    print(greet(1))\n",
    "    assert False, 'This should not happen'\n",
    "except NotImplementedError:\n",
    "    print('We get a runtime error if we do not register a function for a type')"
   ]
  },
  {
   "cell_type": "markdown",
   "metadata": {},
   "source": [
    "This approach is almost exactly what we want, but singledispatch has no typechecking! So what we want is to build a wrapper around singledispatch that actually gives us typeclass capabilities."
   ]
  },
  {
   "cell_type": "code",
   "execution_count": 26,
   "metadata": {},
   "outputs": [
    {
     "name": "stdout",
     "output_type": "stream",
     "text": [
      "Hello, world!\n",
      "Hello again, example\n",
      "Hello again, example\n"
     ]
    }
   ],
   "source": [
    "def method(func):\n",
    "    dispatcher = singledispatch(func)\n",
    "    def wrapper(*args, **kwargs):\n",
    "        return dispatcher(*args, **kwargs)\n",
    "    \n",
    "    wrapper.overload = dispatcher.register\n",
    "    update_wrapper(wrapper, func)\n",
    "\n",
    "    return wrapper\n",
    "\n",
    "# Create a typeclass method\n",
    "@method\n",
    "def greet(instance) -> str:\n",
    "    \"\"\"Default case.\"\"\"\n",
    "    raise NotImplementedError\n",
    "\n",
    "# Register a function for a specific type\n",
    "@greet.overload\n",
    "def _greet_str(instance: str) -> str:\n",
    "    return 'Hello, {0}!'.format(instance)\n",
    "\n",
    "# Custom type\n",
    "@dataclass\n",
    "class MyUser(object):\n",
    "    name: str\n",
    "\n",
    "# Register a function for a custom type\n",
    "@greet.overload\n",
    "def _greet_myuser(instance: MyUser) -> str:\n",
    "    return 'Hello again, {0}'.format(instance.name)\n",
    "\n",
    "# Use the generic function\n",
    "print(greet('world'))\n",
    "print(greet(MyUser(name='example')))\n",
    "\n",
    "x = MyUser"
   ]
  }
 ],
 "metadata": {
  "kernelspec": {
   "display_name": "Python 3",
   "language": "python",
   "name": "python3"
  },
  "language_info": {
   "codemirror_mode": {
    "name": "ipython",
    "version": 3
   },
   "file_extension": ".py",
   "mimetype": "text/x-python",
   "name": "python",
   "nbconvert_exporter": "python",
   "pygments_lexer": "ipython3",
   "version": "3.12.0"
  }
 },
 "nbformat": 4,
 "nbformat_minor": 2
}
